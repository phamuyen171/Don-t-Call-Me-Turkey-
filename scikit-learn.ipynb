{
  "cells": [
    {
      "cell_type": "markdown",
      "id": "8c887833",
      "metadata": {
        "id": "8c887833"
      },
      "source": [
        "# Project: Don't Call Me Turkey\n",
        "\n",
        "## Phase 1: Scikit-learn\n",
        "\n",
        "**Bài toán:** Dự đoán tiếng động trong các clip có phải là tiếng gà tây?"
      ]
    },
    {
      "cell_type": "markdown",
      "id": "509bca8d",
      "metadata": {
        "id": "509bca8d"
      },
      "source": [
        "## Khai báo các thư viện cần thiết"
      ]
    },
    {
      "cell_type": "code",
      "execution_count": 1,
      "id": "8dc1fa63",
      "metadata": {
        "id": "8dc1fa63"
      },
      "outputs": [],
      "source": [
        "import json\n",
        "import numpy as np\n",
        "import pandas as pd\n",
        "import seaborn as sns\n",
        "import matplotlib.pyplot as plt\n",
        "from collections import Counter\n",
        "from sklearn.model_selection import KFold\n",
        "from sklearn.linear_model import LogisticRegression\n",
        "from sklearn.ensemble import RandomForestClassifier, VotingClassifier\n",
        "from sklearn.svm import SVC\n",
        "from sklearn.calibration import CalibratedClassifierCV\n",
        "from sklearn.model_selection import train_test_split, GridSearchCV, cross_val_score, StratifiedKFold\n",
        "from sklearn.metrics import accuracy_score, classification_report, roc_auc_score, roc_curve, auc, confusion_matrix, ConfusionMatrixDisplay\n",
        "from sklearn.preprocessing import StandardScaler"
      ]
    },
    {
      "cell_type": "markdown",
      "id": "1caac133",
      "metadata": {
        "id": "1caac133"
      },
      "source": [
        "## Phân tích Dữ liệu Khám phá (EDA)."
      ]
    },
    {
      "cell_type": "markdown",
      "id": "92a9d6a8",
      "metadata": {
        "id": "92a9d6a8"
      },
      "source": [
        "### Tải dữ liệu từ file JSON và xem kích thước và kiểu dữ liệu."
      ]
    },
    {
      "cell_type": "code",
      "execution_count": 2,
      "id": "671b94d5",
      "metadata": {
        "id": "671b94d5",
        "outputId": "ab988e13-b89d-443f-e814-d4c86fe7a893",
        "colab": {
          "base_uri": "https://localhost:8080/",
          "height": 650
        }
      },
      "outputs": [
        {
          "output_type": "stream",
          "name": "stdout",
          "text": [
            "Loại dữ liệu chính: <class 'list'>\n",
            "Loại phần tử đầu tiên: <class 'dict'>\n",
            "Các khóa trong mỗi mẫu: dict_keys(['audio_embedding', 'is_turkey', 'vid_id', 'end_time_seconds_youtube_clip', 'start_time_seconds_youtube_clip']) \n",
            "\n",
            "Kiểu embedding: <class 'list'>\n",
            "Chiều của 1 frame: 128 \n",
            "\n",
            "Phân phối số lượng frame:\n",
            "Counter({10: 1120, 9: 56, 2: 5, 6: 4, 8: 3, 5: 3, 4: 2, 3: 1, 7: 1})\n"
          ]
        },
        {
          "output_type": "display_data",
          "data": {
            "text/plain": [
              "<Figure size 640x480 with 1 Axes>"
            ],
            "image/png": "[encoded data removed]"
          },
          "metadata": {}
        }
      ],
      "source": [
        "with open('train.json', 'r') as f:\n",
        "    data = json.load(f)\n",
        "\n",
        "# --- Thông tin cơ bản ---\n",
        "print(\"Loại dữ liệu chính:\", type(data))\n",
        "print(\"Loại phần tử đầu tiên:\", type(data[0]))\n",
        "print(\"Các khóa trong mỗi mẫu:\", data[0].keys(), '\\n')\n",
        "\n",
        "# --- Kiểm tra kích thước frame ---\n",
        "embedding = data[0]['audio_embedding']\n",
        "print(\"Kiểu embedding:\", type(embedding))\n",
        "print(\"Chiều của 1 frame:\", len(embedding[0]), '\\n')\n",
        "\n",
        "# Thống kê số frame trên từng mẫu\n",
        "frame_lengths = [len(item['audio_embedding']) for item in data]\n",
        "print(\"Phân phối số lượng frame:\")\n",
        "print(Counter(frame_lengths))\n",
        "\n",
        "plt.hist(frame_lengths)\n",
        "plt.title(\"Biểu đồ phân phối số lượng frame trên từng mẫu\")\n",
        "plt.xlabel('Số frame')\n",
        "plt.ylabel('Số mẫu')\n",
        "plt.show()"
      ]
    },
    {
      "cell_type": "markdown",
      "id": "6de8d8f1",
      "metadata": {
        "id": "6de8d8f1"
      },
      "source": [
        "- Theo mô tả, dữ liệu có các đặc trưng (feature):\n",
        "\n",
        "|Tên feature|Ý nghĩa|\n",
        "|---|---|\n",
        "|audio_embedding | Chuỗi các vector đặc trưng có dạng list, mỗi vector gồm 128 chiều, biểu diễn đặc trưng của một frame âm thanh.|\n",
        "|is_turkey | Nhãn (0 hoặc 1)|\n",
        "|vid_id| mã ID của video|\n",
        "| start_time_seconds_youtube_clip| thời điểm bắt đầu (trong video YouTube)|\n",
        "| end_time_seconds_youtube_clip| thời điểm kết thúc|\n",
        "\n",
        "- Ta nhận thấy, chỉ có 1120 mẫu là đúng chuẩn (10 frame). Còn lại 75 mẫu có số frame khác 10 → cần xử lý để dữ liệu đồng nhất ."
      ]
    },
    {
      "cell_type": "markdown",
      "source": [
        "**Kiểm tra missing value.**"
      ],
      "metadata": {
        "id": "r-Btt2ebZrzj"
      },
      "id": "r-Btt2ebZrzj"
    },
    {
      "cell_type": "code",
      "source": [
        "df = pd.DataFrame(data)"
      ],
      "metadata": {
        "id": "dZd5sj8_Zyv8"
      },
      "id": "dZd5sj8_Zyv8",
      "execution_count": 3,
      "outputs": []
    },
    {
      "cell_type": "code",
      "source": [
        "print(df.info())"
      ],
      "metadata": {
        "colab": {
          "base_uri": "https://localhost:8080/"
        },
        "id": "Fn-sPqbsZq5N",
        "outputId": "b0be73b0-2440-4898-c9c2-d841b0d911c1"
      },
      "id": "Fn-sPqbsZq5N",
      "execution_count": 4,
      "outputs": [
        {
          "output_type": "stream",
          "name": "stdout",
          "text": [
            "<class 'pandas.core.frame.DataFrame'>\n",
            "RangeIndex: 1195 entries, 0 to 1194\n",
            "Data columns (total 5 columns):\n",
            " #   Column                           Non-Null Count  Dtype \n",
            "---  ------                           --------------  ----- \n",
            " 0   audio_embedding                  1195 non-null   object\n",
            " 1   is_turkey                        1195 non-null   int64 \n",
            " 2   vid_id                           1195 non-null   object\n",
            " 3   end_time_seconds_youtube_clip    1195 non-null   int64 \n",
            " 4   start_time_seconds_youtube_clip  1195 non-null   int64 \n",
            "dtypes: int64(3), object(2)\n",
            "memory usage: 46.8+ KB\n",
            "None\n"
          ]
        }
      ]
    },
    {
      "cell_type": "markdown",
      "source": [
        "⇒ Không tồn tại missing value."
      ],
      "metadata": {
        "id": "1cvcUkcIZ2D0"
      },
      "id": "1cvcUkcIZ2D0"
    },
    {
      "cell_type": "markdown",
      "id": "f8eb6ab6",
      "metadata": {
        "id": "f8eb6ab6"
      },
      "source": [
        "**Xem mô tả, thống kê đặc trưng và phân phối của biến mục tiêu `is_turkey`.**"
      ]
    },
    {
      "cell_type": "code",
      "execution_count": 5,
      "id": "05b098d3",
      "metadata": {
        "id": "05b098d3",
        "outputId": "8610c201-8202-40cb-f7fe-067974488ca5",
        "colab": {
          "base_uri": "https://localhost:8080/",
          "height": 603
        }
      },
      "outputs": [
        {
          "output_type": "stream",
          "name": "stdout",
          "text": [
            "Số lượng mẫu mỗi lớp: \n",
            " is_turkey\n",
            "0    704\n",
            "1    491\n",
            "Name: count, dtype: int64\n",
            "\n",
            "Tỉ lệ các lớp: \n",
            " is_turkey\n",
            "0    0.589121\n",
            "1    0.410879\n",
            "Name: proportion, dtype: float64\n"
          ]
        },
        {
          "output_type": "display_data",
          "data": {
            "text/plain": [
              "<Figure size 600x400 with 1 Axes>"
            ],
            "image/png": "[encoded data removed]"
          },
          "metadata": {}
        }
      ],
      "source": [
        "print('Số lượng mẫu mỗi lớp: \\n', df['is_turkey'].value_counts())\n",
        "print('\\nTỉ lệ các lớp: \\n', df['is_turkey'].value_counts(normalize=True))\n",
        "plt.figure(figsize=(6,4))\n",
        "sns.countplot(x='is_turkey', data=df)\n",
        "plt.title('Phân phối biến mục tiêu (is_turkey)')\n",
        "plt.xlabel('Label')\n",
        "plt.ylabel('Số lượng mẫu')\n",
        "plt.show()\n"
      ]
    },
    {
      "cell_type": "markdown",
      "id": "0eafc6a6",
      "metadata": {
        "id": "0eafc6a6"
      },
      "source": [
        "### Hàm load lại dữ liệu đồng thời xử lý kích thức embedding.\n",
        "- Cắt bớt nếu số frame > 10.\n",
        "\n",
        "- Padding (bổ sung frame rỗng là 0) nếu số frame < 10.\n",
        "\n",
        "- để chuẩn hóa về kích thước (10, 128) giúp đảm bảo mô hình có thể xử lý dữ liệu đầu vào một cách đồng nhất và ổn định."
      ]
    },
    {
      "cell_type": "code",
      "execution_count": 6,
      "id": "98e45fa8",
      "metadata": {
        "id": "98e45fa8"
      },
      "outputs": [],
      "source": [
        "def load_and_process_json(file_path, is_train=True):\n",
        "    with open(file_path, 'r') as f:\n",
        "        data = json.load(f)\n",
        "\n",
        "    embeddings = []\n",
        "    labels_or_ids = []\n",
        "\n",
        "    for item in data:\n",
        "        emb = item['audio_embedding']\n",
        "        emb_np = np.array(emb)\n",
        "\n",
        "        # Padding hoặc cắt bớt frame\n",
        "        if emb_np.shape[0] < 10:\n",
        "            pad_len = 10 - emb_np.shape[0]\n",
        "            emb_np = np.vstack([emb_np, np.zeros((pad_len, 128))])\n",
        "        elif emb_np.shape[0] > 10:\n",
        "            emb_np = emb_np[:10]\n",
        "\n",
        "        if emb_np.shape == (10, 128):\n",
        "            embeddings.append(emb_np)\n",
        "            if is_train:\n",
        "                labels_or_ids.append(item['is_turkey'])\n",
        "            else:\n",
        "                labels_or_ids.append(item['vid_id'])\n",
        "\n",
        "    X = np.array(embeddings)\n",
        "\n",
        "    if is_train:\n",
        "        y = np.array(labels_or_ids)\n",
        "        return X, y\n",
        "    else:\n",
        "        ids = labels_or_ids\n",
        "        return ids, X\n"
      ]
    },
    {
      "cell_type": "markdown",
      "id": "606c8cf0",
      "metadata": {
        "id": "606c8cf0"
      },
      "source": [
        "**Tải dữ liệu từ tập train và tập test.**"
      ]
    },
    {
      "cell_type": "code",
      "execution_count": 7,
      "id": "5eec417a",
      "metadata": {
        "id": "5eec417a"
      },
      "outputs": [],
      "source": [
        "x_train, y_train = load_and_process_json('train.json', is_train=True)\n",
        "test_ids, x_test = load_and_process_json('test.json', is_train=False)"
      ]
    },
    {
      "cell_type": "markdown",
      "id": "c2eaa8da",
      "metadata": {
        "id": "c2eaa8da"
      },
      "source": [
        "**Xử lý đặc trưng và Chuẩn hóa dữ liệu.**\n",
        "\n",
        "Để cải thiện khả năng học của mô hình, các đặc trưng từ dữ liệu âm thanh ban đầu ((10, 128)) được biến đổi thành một vector đặc trưng phẳng và bổ sung thêm thông tin thống kê."
      ]
    },
    {
      "cell_type": "markdown",
      "id": "2d9f548b",
      "metadata": {
        "id": "2d9f548b"
      },
      "source": [
        "- Áp dụng .reshape(...) để \"làm phẳng\" toàn bộ thành vector 1 chiều có 1280 phần tử (10 × 128):"
      ]
    },
    {
      "cell_type": "code",
      "execution_count": 8,
      "id": "5c18a8b9",
      "metadata": {
        "id": "5c18a8b9"
      },
      "outputs": [],
      "source": [
        "x_train_flat = x_train.reshape((x_train.shape[0], -1))\n",
        "x_test_flat = x_test.reshape((x_test.shape[0], -1))"
      ]
    },
    {
      "cell_type": "markdown",
      "id": "d5f9a3c9",
      "metadata": {
        "id": "d5f9a3c9"
      },
      "source": [
        "- Bổ sung các thông tin thống kê: Tính giá trị trung bình và độ lệch chuẩn theo trục thời gian (frame). Trung bình (mean) và độ lệch chuẩn (std) được tính theo từng chiều embedding, giúp mô hình hiểu được xu hướng và độ phân tán:"
      ]
    },
    {
      "cell_type": "code",
      "execution_count": 9,
      "id": "db6f8017",
      "metadata": {
        "id": "db6f8017"
      },
      "outputs": [],
      "source": [
        "x_train_mean = np.mean(x_train, axis=1)\n",
        "x_train_std = np.std(x_train, axis=1)\n",
        "x_test_mean = np.mean(x_test, axis=1)\n",
        "x_test_std = np.std(x_test, axis=1)"
      ]
    },
    {
      "cell_type": "markdown",
      "id": "d80b0c9b",
      "metadata": {
        "id": "d80b0c9b"
      },
      "source": [
        "Ghép tất cả thành feature vector cuối cùng bằng np.hstack:\n",
        "\n",
        "- Embedding phẳng (1280)\n",
        "\n",
        "- Trung bình theo chiều (128)\n",
        "\n",
        "- Độ lệch chuẩn theo chiều (128)\n",
        "\n",
        "→ Tổng cộng: 1536 đặc trưng cho mỗi mẫu."
      ]
    },
    {
      "cell_type": "code",
      "execution_count": 10,
      "id": "7d3ef2a4",
      "metadata": {
        "id": "7d3ef2a4"
      },
      "outputs": [],
      "source": [
        "x_train_features = np.hstack([x_train_flat, x_train_mean, x_train_std])\n",
        "x_test_features = np.hstack([x_test_flat, x_test_mean, x_test_std])"
      ]
    },
    {
      "cell_type": "markdown",
      "id": "bf57a61c",
      "metadata": {
        "id": "bf57a61c"
      },
      "source": [
        "Chuẩn hóa đặc trưng (Feature Normalization)\n",
        "- Sử dụng StandardScaler từ thư viện sklearn.preprocessing để đưa toàn bộ dữ liệu về phân phối chuẩn (mean=0, std=1).\n",
        "- Điều này giúp tăng hiệu quả và độ ổn định khi huấn luyện mô hình, đặc biệt là với các thuật toán như SVM, Logistic Regression, hoặc MLP"
      ]
    },
    {
      "cell_type": "code",
      "execution_count": 11,
      "id": "9121d677",
      "metadata": {
        "id": "9121d677"
      },
      "outputs": [],
      "source": [
        "scaler = StandardScaler()\n",
        "x_train_features = scaler.fit_transform(x_train_features)\n",
        "x_test_features = scaler.transform(x_test_features)"
      ]
    },
    {
      "cell_type": "markdown",
      "id": "ca046b6f",
      "metadata": {
        "id": "ca046b6f"
      },
      "source": [
        "## Phát triển Mô hình (Model Development) và Đánh giá Mô hình (Model Evaluation)."
      ]
    },
    {
      "cell_type": "markdown",
      "id": "4557c163",
      "metadata": {
        "id": "4557c163"
      },
      "source": [
        "### Hàm đánh giá mô hình"
      ]
    },
    {
      "cell_type": "code",
      "execution_count": 12,
      "id": "a138e941",
      "metadata": {
        "id": "a138e941"
      },
      "outputs": [],
      "source": [
        "def evaluate_model(model, X_val, y_val, x_train_full, y_train_full, model_name=\"Model\"):\n",
        "    val_probs = model.predict_proba(X_val)[:, 1]\n",
        "    val_preds = model.predict(X_val)\n",
        "    val_auc = roc_auc_score(y_val, val_probs)\n",
        "    fpr, tpr, _ = roc_curve(y_val, val_probs)\n",
        "\n",
        "    # ROC curve\n",
        "    plt.figure(figsize=(7, 5))\n",
        "    plt.plot(fpr, tpr, label=f'ROC Curve (AUC = {val_auc:.2f})')\n",
        "    plt.plot([0, 1], [0, 1], 'k--')\n",
        "    plt.xlabel('False Positive Rate')\n",
        "    plt.ylabel('True Positive Rate')\n",
        "    plt.title(f'Validation ROC Curve - {model_name}')\n",
        "    plt.legend()\n",
        "    plt.grid()\n",
        "    plt.show()\n",
        "\n",
        "    # Confusion Matrix\n",
        "    ConfusionMatrixDisplay.from_predictions(y_val, val_preds)\n",
        "    plt.title(f\"Confusion Matrix - {model_name}\")\n",
        "    plt.grid(False)\n",
        "    plt.show()\n",
        "\n",
        "    # Classification Report\n",
        "    print(\"Classification Report:\")\n",
        "    print(classification_report(y_val, val_preds))\n",
        "\n",
        "    # Cross-validation AUC\n",
        "    cv_scores = cross_val_score(model, x_train_full, y_train_full, cv=10, scoring='roc_auc', n_jobs=-1)\n",
        "    print(f\"10-Fold CV AUC Scores:\\n{cv_scores}\")\n",
        "    print(f\"Mean AUC: {cv_scores.mean():.4f} ± {cv_scores.std():.4f}\")\n",
        "\n",
        "    # Boxplot\n",
        "    plt.figure(figsize=(6, 4))\n",
        "    plt.boxplot(cv_scores, vert=False)\n",
        "    plt.title(f'10-Fold CV AUC Scores - {model_name}')\n",
        "    plt.xlabel('AUC')\n",
        "    plt.grid()\n",
        "    plt.show()\n",
        "\n",
        "    return val_auc"
      ]
    },
    {
      "cell_type": "markdown",
      "id": "c740a4c1",
      "metadata": {
        "id": "c740a4c1"
      },
      "source": [
        "**Chia tập huấn luyện thành train/validation theo tỷ lệ 80/20**"
      ]
    },
    {
      "cell_type": "code",
      "execution_count": 13,
      "id": "f5da0120",
      "metadata": {
        "id": "f5da0120"
      },
      "outputs": [],
      "source": [
        "X_train, X_val, y_train_split, y_val = train_test_split(\n",
        "    x_train_features, y_train, test_size=0.2, random_state=42, stratify=y_train)"
      ]
    },
    {
      "cell_type": "markdown",
      "id": "1741fdda",
      "metadata": {
        "id": "1741fdda"
      },
      "source": [
        "### Huấn luyện mô hình\n",
        "- Mô tả thuật toán chính: Hai thuật toán chính được lựa chọn và sử dụng song song là **Support Vector Classifier (Support Vector Machine)** và **Logistic Regression**. Cả hai mô hình đều được tích hợp trong một thư viện học máy sklearn.\n",
        "- Mục tiêu là khai thác ưu điểm của từng mô hình và nâng cao hiệu suất tổng thể thông qua học cộng tác.\n"
      ]
    },
    {
      "cell_type": "markdown",
      "id": "b278f409",
      "metadata": {
        "id": "b278f409"
      },
      "source": [
        "### Mô hình Support Vector Machine\n",
        "- Thuật toán Support Vector Machine với tính năng output xác suất (probability=True).\n",
        "\n",
        "- Để cải thiện độ tin cậy của xác suất dự đoán, mô hình SVC được bao bọc bởi CalibratedClassifierCV nhằm hiệu chỉnh lại xác suất dự đoán, giúp mô hình đưa ra các dự đoán xác suất chuẩn xác hơn.\n",
        "\n",
        "- Thiết kế thuật toán chi tiết:\n",
        "\n",
        "    - Sử dụng mô hình CalibratedClassifierCV với 3-fold cross-validation (cv=3) để hiệu chỉnh xác suất đầu ra của SVC.\n",
        "\n",
        "    - Kết hợp với phương pháp Grid Search để tìm kiếm kết hợp siêu tham số tối ưu cho mô hình.\n",
        "\n",
        "    - Thuật toán tìm kiếm chi tiết trên không gian tham số như sau:\n",
        "\n",
        "    - C: hệ số điều chỉnh biên (margin) của SVC với các giá trị [0.1, 1, 10]\n",
        "\n",
        "    - kernel: kiểu hàm kernel của SVC, thử nghiệm các loại ['linear', 'rbf']\n",
        "\n",
        "    - gamma: tham số điều chỉnh kernel RBF, thử nghiệm ['scale', 'auto']\n",
        "- Tiêu chí đánh giá chính là roc_auc.\n",
        "- Quy trình huấn luyện:\n",
        "    - Đưa dữ liệu huấn luyện X_train và nhãn y_train_split vào thực hiện huấn luyện qua grid.fit().\n",
        "\n",
        "    - Sau khi huấn luyện, chọn mô hình tốt nhất dựa trên kết quả tìm kiếm grid.best_estimator_.\n",
        "\n",
        "    - Đánh giá mô hình trên tập validation với hàm evaluate_model để kiểm tra chất lượng phân loại và khả năng tổng quát hóa.\n",
        "\n",
        "    - Dùng mô hình tốt nhất dự đoán xác suất trên tập test x_test_features.\n"
      ]
    },
    {
      "cell_type": "code",
      "execution_count": 14,
      "id": "f0986834",
      "metadata": {
        "id": "f0986834",
        "outputId": "7fa3f515-42f8-45a9-f3d6-485101157748",
        "colab": {
          "base_uri": "https://localhost:8080/",
          "height": 1000
        }
      },
      "outputs": [
        {
          "output_type": "display_data",
          "data": {
            "text/plain": [
              "<Figure size 700x500 with 1 Axes>"
            ],
            "image/png": "[encoded data removed]"
          },
          "metadata": {}
        },
        {
          "output_type": "display_data",
          "data": {
            "text/plain": [
              "<Figure size 640x480 with 2 Axes>"
            ],
            "image/png": "[encoded data removed]"
          },
          "metadata": {}
        },
        {
          "output_type": "stream",
          "name": "stdout",
          "text": [
            "Classification Report:\n",
            "              precision    recall  f1-score   support\n",
            "\n",
            "           0       0.93      0.97      0.95       141\n",
            "           1       0.96      0.90      0.93        98\n",
            "\n",
            "    accuracy                           0.94       239\n",
            "   macro avg       0.94      0.93      0.94       239\n",
            "weighted avg       0.94      0.94      0.94       239\n",
            "\n",
            "10-Fold CV AUC Scores:\n",
            "[0.98562805 0.98505318 0.98878988 0.99913768 0.982      0.96588921\n",
            " 0.99620991 0.97667638 0.99387755 0.99504373]\n",
            "Mean AUC: 0.9868 ± 0.0096\n"
          ]
        },
        {
          "output_type": "display_data",
          "data": {
            "text/plain": [
              "<Figure size 600x400 with 1 Axes>"
            ],
            "image/png": "[encoded data removed]"
          },
          "metadata": {}
        },
        {
          "output_type": "stream",
          "name": "stdout",
          "text": [
            "Best Parameters: {'estimator__C': 10, 'estimator__gamma': 'auto', 'estimator__kernel': 'rbf'}\n",
            "Validation AUC: 0.9827037197857866\n",
            "Training Accuracy: 0.9882845188284519\n"
          ]
        }
      ],
      "source": [
        "svc = SVC(probability=True)\n",
        "cal_svc = CalibratedClassifierCV(estimator=svc, cv=3)\n",
        "\n",
        "param_grid = {\n",
        "    'estimator__C': [0.1, 1, 10],\n",
        "    'estimator__kernel': ['linear', 'rbf'],\n",
        "    'estimator__gamma': ['scale', 'auto']\n",
        "}\n",
        "\n",
        "grid = GridSearchCV(\n",
        "    estimator=cal_svc,\n",
        "    param_grid=param_grid,\n",
        "    cv=3,\n",
        "    scoring='roc_auc',\n",
        "    n_jobs=-1\n",
        ")\n",
        "\n",
        "grid.fit(X_train, y_train_split)\n",
        "best_model = grid.best_estimator_\n",
        "val_auc = evaluate_model(best_model, X_val, y_val, x_train_features, y_train, model_name=\"Calibrated SVC\")\n",
        "test_probs = best_model.predict_proba(x_test_features)[:, 1]\n",
        "submission_df = pd.DataFrame({\n",
        "    'vid_id': test_ids,\n",
        "    'is_turkey': test_probs\n",
        "})\n",
        "submission_df.to_csv('submission_svm.csv', index=False)\n",
        "print(\"Best Parameters:\", grid.best_params_)\n",
        "print(\"Validation AUC:\", val_auc)\n",
        "\n",
        "train_preds = best_model.predict(x_train_features)\n",
        "train_accuracy = accuracy_score(y_train, train_preds)\n",
        "\n",
        "print(\"Training Accuracy:\", train_accuracy)"
      ]
    },
    {
      "cell_type": "markdown",
      "id": "fd5d6b38",
      "metadata": {
        "id": "fd5d6b38"
      },
      "source": [
        "Không có dấu hiệu rõ ràng của overfitting nghiêm trọng. Mức chênh lệch hiệu năng giữa train và validation là chấp nhận được"
      ]
    },
    {
      "cell_type": "markdown",
      "id": "1d747c4d",
      "metadata": {
        "id": "1d747c4d"
      },
      "source": [
        "**Siêu tham số tối ưu được chọn:**\n",
        "- Best Parameters: {'estimator__C': 10, 'estimator__gamma': 'auto', 'estimator__kernel': 'rbf'}\n",
        "---"
      ]
    },
    {
      "cell_type": "markdown",
      "id": "a3287eb9",
      "metadata": {
        "id": "a3287eb9"
      },
      "source": [
        "### Đánh giá mô hình Support Vector Machine\n",
        "\n",
        "#### Hiệu suất phân loại (Classification Performance)\n",
        "\n",
        "**Báo cáo phân loại trên tập validation:**\n",
        "\n",
        "| Chỉ số         | Lớp 0 (Không phải gà tây) | Lớp 1 (Gà tây) | Trung bình (macro) |\n",
        "|----------------|----------------------------|----------------|---------------------|\n",
        "| **Precision**  | 0.93                       | 0.96           | 0.94                |\n",
        "| **Recall**     | 0.97                       | 0.90           | 0.93                |\n",
        "| **F1-score**   | 0.95                       | 0.93           | 0.94                |\n",
        "| **Accuracy**   |                            |                | **0.94**            |\n",
        "\n",
        "- Mô hình đạt độ chính xác cao trên tập validation, với **f1-score trung bình đạt 0.94**, cho thấy khả năng cân bằng tốt giữa precision và recall. Số mẫu nhân diện sai của mô hình này là 14.  \n",
        "- Đặc biệt, lớp thiểu số (gà tây) vẫn được nhận diện tốt, với precision cao (0.96), chứng tỏ khả năng nhận diện chính xác các mẫu tích cực.\n",
        "\n",
        "#### AUC trên Validation Set:\n",
        "- Từ biểu đồ ROC curve, đường cong nằm xa khỏi đường chéo (random), cho thấy mô hình phân biệt tốt giữa hai lớp.\n",
        "- **AUC = 0.9827** → Rất gần với 1.0 → Mô hình có khả năng phân tách tuyệt vời.\n",
        "\n",
        "#### 10-Fold Cross Validation AUC:\n",
        "- AUC Scores (10 lần gập):  \n",
        "  `[0.9856, 0.9850, 0.9888, 0.9991, 0.9820, 0.9659, 0.9962, 0.9767, 0.9939, 0.9950]`\n",
        "- **Mean AUC = 0.9868 ± 0.0096**\n",
        "- Boxplot thể hiện các điểm AUC ổn định và phân bố quanh giá trị cao, với phương sai nhỏ.  \n",
        "→ **Mô hình ổn định và đáng tin cậy** khi đánh giá trên nhiều tập con khác nhau.\n",
        "\n",
        "\n",
        "#### Phân tích hạn chế và gợi ý cải thiện\n",
        "\n",
        "##### Hạn chế:\n",
        "- Mặc dù precision cao cho lớp 1, recall của lớp 1 **(0.90)** cho thấy vẫn còn một số mẫu gà tây bị bỏ sót.\n",
        "- AUC ở một số fold (ví dụ: 0.9659) thấp hơn trung bình → có thể có tập con dữ liệu \"khó phân loại\" hơn → mô hình vẫn chưa khái quát hóa hoàn toàn tốt.\n",
        "\n",
        "##### Cải thiện đề xuất:\n",
        "- Dùng thêm kỹ thuật kỹ thuật soft voting để tăng độ chính xác.\n",
        "\n",
        "#### Kết luận:\n",
        "Mô hình **Calibrated SVC** đã thể hiện **hiệu suất xuất sắc** trong cả đánh giá cục bộ và đánh giá chéo, với **AUC > 0.98**, **f1-score cao**, và **độ ổn định tốt**. Tuy vẫn còn không hoàn hảo ở recall cho lớp gà tây.\n",
        "\n",
        "---"
      ]
    },
    {
      "cell_type": "markdown",
      "id": "e6e44698",
      "metadata": {
        "id": "e6e44698"
      },
      "source": [
        "### Mô hình Logistic Regression\n",
        "- Song song với SVM, mô hình Logistic Regression cũng được sử dụng – đây là một thuật toán tuyến tính đơn giản nhưng có khả năng diễn giải tốt và thường hoạt động hiệu quả trong các bài toán phân loại nhị phân.\n",
        "- Do Logistic Regression không luôn đảm bảo dự đoán xác suất chính xác (calibrated), đặc biệt khi dữ liệu không phân phối đều, mô hình được hiệu chỉnh thông qua CalibratedClassifierCV với 3-fold cross-validation.\n",
        "- Thiết kế thuật toán chi tiết:\n",
        "    - Khởi tạo mô hình LogisticRegression với max_iter=1000 để đảm bảo hội tụ trong quá trình huấn luyện.\n",
        "    - Bao bọc mô hình bằng CalibratedClassifierCV để hiệu chỉnh xác suất đầu ra, sử dụng 3-fold cross-validation.\n",
        "    - Xây dựng GridSearchCV để thử nghiệm và chọn ra tổ hợp siêu tham số tối ưu dựa trên tiêu chí đánh giá ROC AUC.\n",
        "    - Không gian siêu tham số thử nghiệm như sau:\n",
        "\n",
        "    - C: hệ số điều chuẩn, điều khiển mức độ regularization, thử các giá trị [0.01, 0.1, 1, 10].\n",
        "\n",
        "    - penalty: loại chuẩn hóa, chọn 'l2' phù hợp với solver ‘lbfgs’.\n",
        "\n",
        "    - solver: thuật toán tối ưu, chọn 'lbfgs' – hiệu quả với regularization L2 và hỗ trợ đa lớp.\n",
        "\n",
        "    - Thực hiện tìm kiếm trên toàn bộ tổ hợp tham số bằng GridSearchCV, sử dụng cross-validation với 3 fold và tiêu chí đánh giá là roc_auc.\n",
        "    \n",
        "- Quy trình huấn luyện:\n",
        "    - Dữ liệu đầu vào x_train_features được chia thành tập huấn luyện và validation bằng train_test_split, với tỷ lệ 80% huấn luyện và 20% validation, có stratify theo nhãn để đảm bảo phân bố đều.\n",
        "\n",
        "    - Thực hiện huấn luyện với grid.fit() trên tập X_train và y_train_split.\n",
        "\n",
        "    - Lấy mô hình tốt nhất từ grid.best_estimator_ để đánh giá trên tập validation.\n",
        "\n",
        "    - Hàm evaluate_model được sử dụng để tính toán ROC AUC trên tập validation – giúp đánh giá khả năng phân biệt nhãn của mô hình.\n",
        "\n",
        "    - Sau khi chọn được mô hình tốt nhất, thực hiện dự đoán xác suất trên tập test x_test_features.\n",
        "\n",
        "    - Xuất kết quả ra file submission_logistic.csv gồm cột vid_id và xác suất is_turkey."
      ]
    },
    {
      "cell_type": "code",
      "execution_count": 15,
      "id": "2c3b5e53",
      "metadata": {
        "id": "2c3b5e53",
        "outputId": "b7fb19f4-6b1e-44ec-e076-090e94ee85da",
        "colab": {
          "base_uri": "https://localhost:8080/",
          "height": 1000
        }
      },
      "outputs": [
        {
          "output_type": "display_data",
          "data": {
            "text/plain": [
              "<Figure size 700x500 with 1 Axes>"
            ],
            "image/png": "[encoded data removed]"
          },
          "metadata": {}
        },
        {
          "output_type": "display_data",
          "data": {
            "text/plain": [
              "<Figure size 640x480 with 2 Axes>"
            ],
            "image/png": "[encoded data removed]"
          },
          "metadata": {}
        },
        {
          "output_type": "stream",
          "name": "stdout",
          "text": [
            "Classification Report:\n",
            "              precision    recall  f1-score   support\n",
            "\n",
            "           0       0.94      0.97      0.95       141\n",
            "           1       0.96      0.91      0.93        98\n",
            "\n",
            "    accuracy                           0.95       239\n",
            "   macro avg       0.95      0.94      0.94       239\n",
            "weighted avg       0.95      0.95      0.95       239\n",
            "\n",
            "10-Fold CV AUC Scores:\n",
            "[0.98505318 0.99022708 0.98907732 0.99971256 0.984      0.97055394\n",
            " 0.99854227 0.98163265 0.9941691  0.99737609]\n",
            "Mean AUC: 0.9890 ± 0.0086\n"
          ]
        },
        {
          "output_type": "display_data",
          "data": {
            "text/plain": [
              "<Figure size 600x400 with 1 Axes>"
            ],
            "image/png": "[encoded data removed]"
          },
          "metadata": {}
        },
        {
          "output_type": "stream",
          "name": "stdout",
          "text": [
            "Best Parameters: {'estimator__C': 0.01, 'estimator__penalty': 'l2', 'estimator__solver': 'lbfgs'}\n",
            "Validation AUC: 0.9843682153712549\n",
            "Training Accuracy: 0.9815899581589959\n"
          ]
        }
      ],
      "source": [
        "logreg = LogisticRegression(max_iter=1000)\n",
        "cal_logreg = CalibratedClassifierCV(estimator=logreg, cv=3)\n",
        "\n",
        "param_grid = {\n",
        "    'estimator__C': [0.01, 0.1, 1, 10],\n",
        "    'estimator__penalty': ['l2'],\n",
        "    'estimator__solver': ['lbfgs']\n",
        "}\n",
        "\n",
        "grid = GridSearchCV(\n",
        "    estimator=cal_logreg,\n",
        "    param_grid=param_grid,\n",
        "    cv=3,\n",
        "    scoring='roc_auc',\n",
        "    n_jobs=-1\n",
        ")\n",
        "\n",
        "grid.fit(X_train, y_train_split)\n",
        "\n",
        "best_model = grid.best_estimator_\n",
        "\n",
        "val_auc = evaluate_model(best_model, X_val, y_val, x_train_features, y_train, model_name=\"Calibrated Logistic Regression\")\n",
        "\n",
        "test_probs = best_model.predict_proba(x_test_features)[:, 1]\n",
        "submission_df = pd.DataFrame({\n",
        "    'vid_id': test_ids,\n",
        "    'is_turkey': test_probs\n",
        "})\n",
        "submission_df.to_csv('submission_logistic.csv', index=False)\n",
        "\n",
        "print(\"Best Parameters:\", grid.best_params_)\n",
        "print(\"Validation AUC:\", val_auc)\n",
        "\n",
        "train_preds = best_model.predict(x_train_features)\n",
        "train_accuracy = accuracy_score(y_train, train_preds)\n",
        "\n",
        "print(\"Training Accuracy:\", train_accuracy)"
      ]
    },
    {
      "cell_type": "markdown",
      "id": "13abbb76",
      "metadata": {
        "id": "13abbb76"
      },
      "source": [
        "Không có dấu hiệu rõ ràng của overfitting nghiêm trọng. Mức chênh lệch hiệu năng giữa train và validation là chấp nhận được"
      ]
    },
    {
      "cell_type": "markdown",
      "id": "50c31dcd",
      "metadata": {
        "id": "50c31dcd"
      },
      "source": [
        "**Siêu tham số tối ưu được chọn:**\n",
        "- Best Parameters: {'estimator__C': 0.01, 'estimator__penalty': 'l2', 'estimator__solver': 'lbfgs'}\n",
        "---"
      ]
    },
    {
      "cell_type": "markdown",
      "id": "59d056e1",
      "metadata": {
        "id": "59d056e1"
      },
      "source": [
        "### Đánh giá mô hình  Logistic Regression\n",
        "\n",
        "#### Hiệu suất phân loại (Classification Performance)\n",
        "\n",
        "**Báo cáo phân loại trên tập validation:**\n",
        "\n",
        "| Chỉ số         | Lớp 0 (Không phải gà tây) | Lớp 1 (Gà tây) | Trung bình (macro) |\n",
        "|----------------|----------------------------|----------------|---------------------|\n",
        "| **Precision**  | 0.94                       | 0.96           | 0.95                |\n",
        "| **Recall**     | 0.97                       | 0.91           | 0.94                |\n",
        "| **F1-score**   | 0.95                       | 0.93           | 0.94                |\n",
        "| **Accuracy**   |                            |                | **0.95**            |\n",
        "\n",
        "- Mô hình đạt độ chính xác rất cao, với **f1-score trung bình đạt 0.94** và **accuracy 95%**, thể hiện hiệu suất phân loại ổn định.\n",
        "- Lớp gà tây (lớp 1) được nhận diện tốt, với precision đạt 0.96 và recall đạt 0.91, cho thấy mô hình có khả năng phát hiện đúng đa số các mẫu dương. Có 9 mẫu nhận diện sai.\n",
        "\n",
        "#### AUC trên Validation Set:\n",
        "- Từ biểu đồ ROC curve, đường cong nằm gần phía góc trên bên trái, cách xa đường chéo, chứng tỏ khả năng phân biệt hai lớp rất tốt.\n",
        "- **AUC = 0.98** → Khả năng phân biệt gần như tối ưu.\n",
        "\n",
        "#### 10-Fold Cross Validation AUC:\n",
        "- AUC Scores (10 lần gập):  \n",
        "  `[0.9851, 0.9902, 0.9891, 0.9997, 0.9840, 0.9706, 0.9985, 0.9816, 0.9942, 0.9974]`\n",
        "- **Mean AUC = 0.9890 ± 0.0086**\n",
        "- Boxplot AUC cho thấy các điểm số rất cao và dao động thấp → hiệu suất ổn định giữa các fold khác nhau.\n",
        "\n",
        "→ **Mô hình ổn định và có hiệu suất rất cao** trên nhiều tập con, cho thấy khả năng tổng quát hóa tốt.\n",
        "\n",
        "#### Phân tích hạn chế và gợi ý cải thiện\n",
        "\n",
        "##### Hạn chế:\n",
        "- Mặc dù precision cao (0.96) cho lớp gà tây, recall (0.91) vẫn cho thấy một số mẫu dương bị bỏ sót.\n",
        "- Một vài fold có AUC thấp hơn trung bình (ví dụ: 0.9706) → cần xem xét dữ liệu ở các fold này có thể có nhiễu hoặc chưa đại diện.\n",
        "\n",
        "##### Cải thiện đề xuất:\n",
        "- Có thể kết hợp mô hình này với SVC theo hình thức **voting ensemble** để tận dụng thế mạnh của cả hai mô hình.\n",
        "\n",
        "#### Kết luận:\n",
        "Mô hình **Calibrated Logistic Regression** thể hiện **hiệu suất vượt trội**, với **AUC xấp xỉ 0.99**, **độ chính xác và độ ổn định cao**. Đây là một mô hình đơn giản nhưng cực kỳ hiệu quả.\n",
        "\n",
        "---"
      ]
    },
    {
      "cell_type": "markdown",
      "id": "5b7f5ede",
      "metadata": {
        "id": "5b7f5ede"
      },
      "source": [
        "### Mô hình chính được đề xuất cải thiện: mô hình Voting Classifier kết hợp Pseudo-labeling.\n",
        "- Mục tiêu:\n",
        "    - Phát triển một mô hình phân loại nhị phân mạnh mẽ bằng cách:\n",
        "\n",
        "      - Kết hợp nhiều mô hình con thông qua kỹ thuật Voting Ensemble để cải thiện hiệu quả dự đoán.\n",
        "\n",
        "      - Áp dụng chiến lược pseudo-labeling để tận dụng tập dữ liệu chưa gán nhãn, từ đó mở rộng tập huấn luyện và tăng khả năng tổng quát hóa.\n",
        "- Lựa chọn mô hình và chiến lược ensemble:\n",
        "  - Các mô hình thành phần:\n",
        "      - Calibrated SVM: mô hình SVC với xác suất được hiệu chỉnh bằng CalibratedClassifierCV, sử dụng siêu tham số tối ưu đã tìm được (C=10, kernel='rbf', gamma='auto).\n",
        "\n",
        "      - Logistic Regression: sử dụng siêu tham số tốt nhất đã tìm được ở trên (C=0.01, penalty='l2', solver='lbfgs').\n",
        "\n",
        "- Kỹ thuật ensemble:\n",
        "    - Dùng VotingClassifier với chế độ \"soft voting\", tức là lấy trung bình xác suất của các mô hình thành phần để đưa ra quyết định cuối cùng. Điều này khai thác ưu điểm của từng mô hình trong việc dự đoán xác suất.\n",
        "\n",
        "    - VotingClassifier giúp tăng tính ổn định và độ chính xác so với từng mô hình đơn lẻ.\n",
        "- Đánh giá ban đầu với Cross-validation\n",
        "    - Sử dụng 10-Fold Cross-validation trên tập huấn luyện (x_train_features, y_train) để đánh giá hiệu quả ensemble một cách khách quan.\n",
        "\n",
        "    - Chỉ số đánh giá chính: ROC AUC.\n",
        "\n",
        "    - Kết quả trung bình và độ lệch chuẩn được in ra và trực quan hóa bằng biểu đồ boxplot, giúp đánh giá độ ổn định và phân phối hiệu suất mô hình.\n",
        "- Huấn luyện mô hình và Pseudo-labeling\n",
        "  - Huấn luyện ban đầu:\n",
        "      - Mô hình VotingClassifier được huấn luyện toàn bộ trên tập x_train_features.\n",
        "\n",
        "      - Pseudo-labeling:\n",
        "        - Dự đoán xác suất trên tập test (x_test_features) và chọn những mẫu có độ tin cậy cao:\n",
        "\n",
        "        - Mẫu có xác suất > 0.9 được gán nhãn dương (1)\n",
        "\n",
        "        - Mẫu có xác suất < 0.1 được gán nhãn âm (0)\n",
        "\n",
        "        - Các mẫu này được gọi là pseudo-labeled data, giả định là đúng và dùng như dữ liệu huấn luyện bổ sung.\n",
        "\n",
        "        - Tập huấn luyện mới được mở rộng bằng cách gộp các pseudo-labeled samples với dữ liệu gốc.\n",
        "\n",
        "  - Huấn luyện lại:\n",
        "      - Mô hình VotingClassifier được huấn luyện lại với tập huấn luyện mở rộng (X_extended, y_extended), giúp mô hình học được nhiều đặc trưng hơn và cải thiện hiệu suất.\n",
        "\n",
        "  - Sau khi huấn luyện lại, mô hình được dùng để dự đoán xác suất trên tập test lần nữa.\n",
        "\n",
        "- Kết quả được lưu vào file submission.csv dưới định dạng chuẩn (vid_id, is_turkey)."
      ]
    },
    {
      "cell_type": "markdown",
      "id": "84b19915",
      "metadata": {
        "id": "84b19915"
      },
      "source": [
        "**Khai báo tham số tốt nhất cho các mô hình đã tìm được ở trên**"
      ]
    },
    {
      "cell_type": "code",
      "execution_count": 16,
      "id": "e89f256c",
      "metadata": {
        "id": "e89f256c"
      },
      "outputs": [],
      "source": [
        "svm_best_params = {'C': 10, 'gamma': 'auto', 'kernel': 'rbf'}\n",
        "logreg_best_params = {'C': 0.01, 'penalty': 'l2', 'solver': 'lbfgs'}"
      ]
    },
    {
      "cell_type": "markdown",
      "id": "f43d4f65",
      "metadata": {
        "id": "f43d4f65"
      },
      "source": [
        "**Tạo mô hình SVM đã hiệu chỉnh và Logistic Regression**"
      ]
    },
    {
      "cell_type": "code",
      "execution_count": 17,
      "id": "9facc5c8",
      "metadata": {
        "id": "9facc5c8"
      },
      "outputs": [],
      "source": [
        "svm = SVC(probability=True, C=svm_best_params['C'], gamma=svm_best_params['gamma'], kernel=svm_best_params['kernel'])\n",
        "cal_svm = CalibratedClassifierCV(estimator=svm, cv=3)\n",
        "\n",
        "logreg = LogisticRegression(C=logreg_best_params['C'], penalty=logreg_best_params['penalty'],\n",
        "                            solver=logreg_best_params['solver'], max_iter=1000)"
      ]
    },
    {
      "cell_type": "markdown",
      "id": "422096e2",
      "metadata": {
        "id": "422096e2"
      },
      "source": [
        "**Tạo Voting Classifier và đánh giá bằng cross-validation**"
      ]
    },
    {
      "cell_type": "code",
      "execution_count": 18,
      "id": "4223ff2f",
      "metadata": {
        "id": "4223ff2f",
        "outputId": "2bc97334-ec6c-4849-ac14-761b41568443",
        "colab": {
          "base_uri": "https://localhost:8080/"
        }
      },
      "outputs": [
        {
          "output_type": "stream",
          "name": "stdout",
          "text": [
            "10-Fold CV AUC Scores: [0.98562805 0.98878988 0.988215   1.         0.98485714 0.9696793\n",
            " 0.99737609 0.98134111 0.99387755 0.99650146]\n",
            "Mean AUC: 0.9886 ± 0.0085\n"
          ]
        }
      ],
      "source": [
        "voting_clf = VotingClassifier(\n",
        "    estimators=[('svm', cal_svm), ('logreg', logreg)],\n",
        "    voting='soft',\n",
        "    n_jobs=-1\n",
        ")\n",
        "\n",
        "cv_scores = cross_val_score(voting_clf, x_train_features, y_train, cv=10, scoring='roc_auc', n_jobs=-1)\n",
        "print(f\"10-Fold CV AUC Scores: {cv_scores}\")\n",
        "print(f\"Mean AUC: {cv_scores.mean():.4f} ± {cv_scores.std():.4f}\")"
      ]
    },
    {
      "cell_type": "markdown",
      "id": "d4f02157",
      "metadata": {
        "id": "d4f02157"
      },
      "source": [
        "**Trực quan hóa điểm AUC**"
      ]
    },
    {
      "cell_type": "code",
      "execution_count": 19,
      "id": "805b6b42",
      "metadata": {
        "id": "805b6b42",
        "outputId": "36820933-f463-4480-b363-16b267b057d6",
        "colab": {
          "base_uri": "https://localhost:8080/",
          "height": 410
        }
      },
      "outputs": [
        {
          "output_type": "display_data",
          "data": {
            "text/plain": [
              "<Figure size 600x400 with 1 Axes>"
            ],
            "image/png": "[encoded data removed]"
          },
          "metadata": {}
        }
      ],
      "source": [
        "plt.figure(figsize=(6,4))\n",
        "plt.boxplot(cv_scores, vert=False)\n",
        "plt.title('10-Fold CV AUC Scores of Voting Classifier')\n",
        "plt.xlabel('AUC')\n",
        "plt.grid()\n",
        "plt.show()"
      ]
    },
    {
      "cell_type": "markdown",
      "id": "f3fc1f83",
      "metadata": {
        "id": "f3fc1f83"
      },
      "source": [
        " **Huấn luyện mô hình với dữ liệu ban đầu và dự đoán xác suất trên tập test**"
      ]
    },
    {
      "cell_type": "code",
      "execution_count": 20,
      "id": "7ef64196",
      "metadata": {
        "id": "7ef64196"
      },
      "outputs": [],
      "source": [
        "voting_clf.fit(x_train_features, y_train)\n",
        "test_probs = voting_clf.predict_proba(x_test_features)[:, 1]"
      ]
    },
    {
      "cell_type": "markdown",
      "id": "a9d92739",
      "metadata": {
        "id": "a9d92739"
      },
      "source": [
        "**Lọc ra các pseudo-label có độ tin cậy cao/thấp**"
      ]
    },
    {
      "cell_type": "code",
      "execution_count": 21,
      "id": "11132f2c",
      "metadata": {
        "id": "11132f2c",
        "outputId": "1fa0f7b0-7294-4740-a99a-f3dd66329bf2",
        "colab": {
          "base_uri": "https://localhost:8080/"
        }
      },
      "outputs": [
        {
          "output_type": "stream",
          "name": "stdout",
          "text": [
            "Số lượng mẫu pseudo-label: 969\n"
          ]
        }
      ],
      "source": [
        "threshold_high = 0.9\n",
        "threshold_low = 0.1\n",
        "\n",
        "pseudo_labels_high = test_probs > threshold_high\n",
        "pseudo_labels_low = test_probs < threshold_low\n",
        "\n",
        "pseudo_indices = np.where(pseudo_labels_high | pseudo_labels_low)[0]\n",
        "print(f\"Số lượng mẫu pseudo-label: {len(pseudo_indices)}\")\n"
      ]
    },
    {
      "cell_type": "markdown",
      "id": "ede0798e",
      "metadata": {
        "id": "ede0798e"
      },
      "source": [
        "**Tạo dữ liệu mở rộng và huấn luyện lại mô hình**"
      ]
    },
    {
      "cell_type": "code",
      "execution_count": 22,
      "id": "56e72f6c",
      "metadata": {
        "id": "56e72f6c",
        "outputId": "87e71881-d609-4531-d7ac-2e0445699bd4",
        "colab": {
          "base_uri": "https://localhost:8080/",
          "height": 198
        }
      },
      "outputs": [
        {
          "output_type": "execute_result",
          "data": {
            "text/plain": [
              "VotingClassifier(estimators=[('svm',\n",
              "                              CalibratedClassifierCV(cv=3,\n",
              "                                                     estimator=SVC(C=10,\n",
              "                                                                   gamma='auto',\n",
              "                                                                   probability=True))),\n",
              "                             ('logreg',\n",
              "                              LogisticRegression(C=0.01, max_iter=1000))],\n",
              "                 n_jobs=-1, voting='soft')"
            ],
            "text/html": [
              "<style>#sk-container-id-1 {\n",
              "  /* Definition of color scheme common for light and dark mode */\n",
              "  --sklearn-color-text: #000;\n",
              "  --sklearn-color-text-muted: #666;\n",
              "  --sklearn-color-line: gray;\n",
              "  /* Definition of color scheme for unfitted estimators */\n",
              "  --sklearn-color-unfitted-level-0: #fff5e6;\n",
              "  --sklearn-color-unfitted-level-1: #f6e4d2;\n",
              "  --sklearn-color-unfitted-level-2: #ffe0b3;\n",
              "  --sklearn-color-unfitted-level-3: chocolate;\n",
              "  /* Definition of color scheme for fitted estimators */\n",
              "  --sklearn-color-fitted-level-0: #f0f8ff;\n",
              "  --sklearn-color-fitted-level-1: #d4ebff;\n",
              "  --sklearn-color-fitted-level-2: #b3dbfd;\n",
              "  --sklearn-color-fitted-level-3: cornflowerblue;\n",
              "\n",
              "  /* Specific color for light theme */\n",
              "  --sklearn-color-text-on-default-background: var(--sg-text-color, var(--theme-code-foreground, var(--jp-content-font-color1, black)));\n",
              "  --sklearn-color-background: var(--sg-background-color, var(--theme-background, var(--jp-layout-color0, white)));\n",
              "  --sklearn-color-border-box: var(--sg-text-color, var(--theme-code-foreground, var(--jp-content-font-color1, black)));\n",
              "  --sklearn-color-icon: #696969;\n",
              "\n",
              "  @media (prefers-color-scheme: dark) {\n",
              "    /* Redefinition of color scheme for dark theme */\n",
              "    --sklearn-color-text-on-default-background: var(--sg-text-color, var(--theme-code-foreground, var(--jp-content-font-color1, white)));\n",
              "    --sklearn-color-background: var(--sg-background-color, var(--theme-background, var(--jp-layout-color0, #111)));\n",
              "    --sklearn-color-border-box: var(--sg-text-color, var(--theme-code-foreground, var(--jp-content-font-color1, white)));\n",
              "    --sklearn-color-icon: #878787;\n",
              "  }\n",
              "}\n",
              "\n",
              "#sk-container-id-1 {\n",
              "  color: var(--sklearn-color-text);\n",
              "}\n",
              "\n",
              "#sk-container-id-1 pre {\n",
              "  padding: 0;\n",
              "}\n",
              "\n",
              "#sk-container-id-1 input.sk-hidden--visually {\n",
              "  border: 0;\n",
              "  clip: rect(1px 1px 1px 1px);\n",
              "  clip: rect(1px, 1px, 1px, 1px);\n",
              "  height: 1px;\n",
              "  margin: -1px;\n",
              "  overflow: hidden;\n",
              "  padding: 0;\n",
              "  position: absolute;\n",
              "  width: 1px;\n",
              "}\n",
              "\n",
              "#sk-container-id-1 div.sk-dashed-wrapped {\n",
              "  border: 1px dashed var(--sklearn-color-line);\n",
              "  margin: 0 0.4em 0.5em 0.4em;\n",
              "  box-sizing: border-box;\n",
              "  padding-bottom: 0.4em;\n",
              "  background-color: var(--sklearn-color-background);\n",
              "}\n",
              "\n",
              "#sk-container-id-1 div.sk-container {\n",
              "  /* jupyter's `normalize.less` sets `[hidden] { display: none; }`\n",
              "     but bootstrap.min.css set `[hidden] { display: none !important; }`\n",
              "     so we also need the `!important` here to be able to override the\n",
              "     default hidden behavior on the sphinx rendered scikit-learn.org.\n",
              "     See: https://github.com/scikit-learn/scikit-learn/issues/21755 */\n",
              "  display: inline-block !important;\n",
              "  position: relative;\n",
              "}\n",
              "\n",
              "#sk-container-id-1 div.sk-text-repr-fallback {\n",
              "  display: none;\n",
              "}\n",
              "\n",
              "div.sk-parallel-item,\n",
              "div.sk-serial,\n",
              "div.sk-item {\n",
              "  /* draw centered vertical line to link estimators */\n",
              "  background-image: linear-gradient(var(--sklearn-color-text-on-default-background), var(--sklearn-color-text-on-default-background));\n",
              "  background-size: 2px 100%;\n",
              "  background-repeat: no-repeat;\n",
              "  background-position: center center;\n",
              "}\n",
              "\n",
              "/* Parallel-specific style estimator block */\n",
              "\n",
              "#sk-container-id-1 div.sk-parallel-item::after {\n",
              "  content: \"\";\n",
              "  width: 100%;\n",
              "  border-bottom: 2px solid var(--sklearn-color-text-on-default-background);\n",
              "  flex-grow: 1;\n",
              "}\n",
              "\n",
              "#sk-container-id-1 div.sk-parallel {\n",
              "  display: flex;\n",
              "  align-items: stretch;\n",
              "  justify-content: center;\n",
              "  background-color: var(--sklearn-color-background);\n",
              "  position: relative;\n",
              "}\n",
              "\n",
              "#sk-container-id-1 div.sk-parallel-item {\n",
              "  display: flex;\n",
              "  flex-direction: column;\n",
              "}\n",
              "\n",
              "#sk-container-id-1 div.sk-parallel-item:first-child::after {\n",
              "  align-self: flex-end;\n",
              "  width: 50%;\n",
              "}\n",
              "\n",
              "#sk-container-id-1 div.sk-parallel-item:last-child::after {\n",
              "  align-self: flex-start;\n",
              "  width: 50%;\n",
              "}\n",
              "\n",
              "#sk-container-id-1 div.sk-parallel-item:only-child::after {\n",
              "  width: 0;\n",
              "}\n",
              "\n",
              "/* Serial-specific style estimator block */\n",
              "\n",
              "#sk-container-id-1 div.sk-serial {\n",
              "  display: flex;\n",
              "  flex-direction: column;\n",
              "  align-items: center;\n",
              "  background-color: var(--sklearn-color-background);\n",
              "  padding-right: 1em;\n",
              "  padding-left: 1em;\n",
              "}\n",
              "\n",
              "\n",
              "/* Toggleable style: style used for estimator/Pipeline/ColumnTransformer box that is\n",
              "clickable and can be expanded/collapsed.\n",
              "- Pipeline and ColumnTransformer use this feature and define the default style\n",
              "- Estimators will overwrite some part of the style using the `sk-estimator` class\n",
              "*/\n",
              "\n",
              "/* Pipeline and ColumnTransformer style (default) */\n",
              "\n",
              "#sk-container-id-1 div.sk-toggleable {\n",
              "  /* Default theme specific background. It is overwritten whether we have a\n",
              "  specific estimator or a Pipeline/ColumnTransformer */\n",
              "  background-color: var(--sklearn-color-background);\n",
              "}\n",
              "\n",
              "/* Toggleable label */\n",
              "#sk-container-id-1 label.sk-toggleable__label {\n",
              "  cursor: pointer;\n",
              "  display: flex;\n",
              "  width: 100%;\n",
              "  margin-bottom: 0;\n",
              "  padding: 0.5em;\n",
              "  box-sizing: border-box;\n",
              "  text-align: center;\n",
              "  align-items: start;\n",
              "  justify-content: space-between;\n",
              "  gap: 0.5em;\n",
              "}\n",
              "\n",
              "#sk-container-id-1 label.sk-toggleable__label .caption {\n",
              "  font-size: 0.6rem;\n",
              "  font-weight: lighter;\n",
              "  color: var(--sklearn-color-text-muted);\n",
              "}\n",
              "\n",
              "#sk-container-id-1 label.sk-toggleable__label-arrow:before {\n",
              "  /* Arrow on the left of the label */\n",
              "  content: \"▸\";\n",
              "  float: left;\n",
              "  margin-right: 0.25em;\n",
              "  color: var(--sklearn-color-icon);\n",
              "}\n",
              "\n",
              "#sk-container-id-1 label.sk-toggleable__label-arrow:hover:before {\n",
              "  color: var(--sklearn-color-text);\n",
              "}\n",
              "\n",
              "/* Toggleable content - dropdown */\n",
              "\n",
              "#sk-container-id-1 div.sk-toggleable__content {\n",
              "  max-height: 0;\n",
              "  max-width: 0;\n",
              "  overflow: hidden;\n",
              "  text-align: left;\n",
              "  /* unfitted */\n",
              "  background-color: var(--sklearn-color-unfitted-level-0);\n",
              "}\n",
              "\n",
              "#sk-container-id-1 div.sk-toggleable__content.fitted {\n",
              "  /* fitted */\n",
              "  background-color: var(--sklearn-color-fitted-level-0);\n",
              "}\n",
              "\n",
              "#sk-container-id-1 div.sk-toggleable__content pre {\n",
              "  margin: 0.2em;\n",
              "  border-radius: 0.25em;\n",
              "  color: var(--sklearn-color-text);\n",
              "  /* unfitted */\n",
              "  background-color: var(--sklearn-color-unfitted-level-0);\n",
              "}\n",
              "\n",
              "#sk-container-id-1 div.sk-toggleable__content.fitted pre {\n",
              "  /* unfitted */\n",
              "  background-color: var(--sklearn-color-fitted-level-0);\n",
              "}\n",
              "\n",
              "#sk-container-id-1 input.sk-toggleable__control:checked~div.sk-toggleable__content {\n",
              "  /* Expand drop-down */\n",
              "  max-height: 200px;\n",
              "  max-width: 100%;\n",
              "  overflow: auto;\n",
              "}\n",
              "\n",
              "#sk-container-id-1 input.sk-toggleable__control:checked~label.sk-toggleable__label-arrow:before {\n",
              "  content: \"▾\";\n",
              "}\n",
              "\n",
              "/* Pipeline/ColumnTransformer-specific style */\n",
              "\n",
              "#sk-container-id-1 div.sk-label input.sk-toggleable__control:checked~label.sk-toggleable__label {\n",
              "  color: var(--sklearn-color-text);\n",
              "  background-color: var(--sklearn-color-unfitted-level-2);\n",
              "}\n",
              "\n",
              "#sk-container-id-1 div.sk-label.fitted input.sk-toggleable__control:checked~label.sk-toggleable__label {\n",
              "  background-color: var(--sklearn-color-fitted-level-2);\n",
              "}\n",
              "\n",
              "/* Estimator-specific style */\n",
              "\n",
              "/* Colorize estimator box */\n",
              "#sk-container-id-1 div.sk-estimator input.sk-toggleable__control:checked~label.sk-toggleable__label {\n",
              "  /* unfitted */\n",
              "  background-color: var(--sklearn-color-unfitted-level-2);\n",
              "}\n",
              "\n",
              "#sk-container-id-1 div.sk-estimator.fitted input.sk-toggleable__control:checked~label.sk-toggleable__label {\n",
              "  /* fitted */\n",
              "  background-color: var(--sklearn-color-fitted-level-2);\n",
              "}\n",
              "\n",
              "#sk-container-id-1 div.sk-label label.sk-toggleable__label,\n",
              "#sk-container-id-1 div.sk-label label {\n",
              "  /* The background is the default theme color */\n",
              "  color: var(--sklearn-color-text-on-default-background);\n",
              "}\n",
              "\n",
              "/* On hover, darken the color of the background */\n",
              "#sk-container-id-1 div.sk-label:hover label.sk-toggleable__label {\n",
              "  color: var(--sklearn-color-text);\n",
              "  background-color: var(--sklearn-color-unfitted-level-2);\n",
              "}\n",
              "\n",
              "/* Label box, darken color on hover, fitted */\n",
              "#sk-container-id-1 div.sk-label.fitted:hover label.sk-toggleable__label.fitted {\n",
              "  color: var(--sklearn-color-text);\n",
              "  background-color: var(--sklearn-color-fitted-level-2);\n",
              "}\n",
              "\n",
              "/* Estimator label */\n",
              "\n",
              "#sk-container-id-1 div.sk-label label {\n",
              "  font-family: monospace;\n",
              "  font-weight: bold;\n",
              "  display: inline-block;\n",
              "  line-height: 1.2em;\n",
              "}\n",
              "\n",
              "#sk-container-id-1 div.sk-label-container {\n",
              "  text-align: center;\n",
              "}\n",
              "\n",
              "/* Estimator-specific */\n",
              "#sk-container-id-1 div.sk-estimator {\n",
              "  font-family: monospace;\n",
              "  border: 1px dotted var(--sklearn-color-border-box);\n",
              "  border-radius: 0.25em;\n",
              "  box-sizing: border-box;\n",
              "  margin-bottom: 0.5em;\n",
              "  /* unfitted */\n",
              "  background-color: var(--sklearn-color-unfitted-level-0);\n",
              "}\n",
              "\n",
              "#sk-container-id-1 div.sk-estimator.fitted {\n",
              "  /* fitted */\n",
              "  background-color: var(--sklearn-color-fitted-level-0);\n",
              "}\n",
              "\n",
              "/* on hover */\n",
              "#sk-container-id-1 div.sk-estimator:hover {\n",
              "  /* unfitted */\n",
              "  background-color: var(--sklearn-color-unfitted-level-2);\n",
              "}\n",
              "\n",
              "#sk-container-id-1 div.sk-estimator.fitted:hover {\n",
              "  /* fitted */\n",
              "  background-color: var(--sklearn-color-fitted-level-2);\n",
              "}\n",
              "\n",
              "/* Specification for estimator info (e.g. \"i\" and \"?\") */\n",
              "\n",
              "/* Common style for \"i\" and \"?\" */\n",
              "\n",
              ".sk-estimator-doc-link,\n",
              "a:link.sk-estimator-doc-link,\n",
              "a:visited.sk-estimator-doc-link {\n",
              "  float: right;\n",
              "  font-size: smaller;\n",
              "  line-height: 1em;\n",
              "  font-family: monospace;\n",
              "  background-color: var(--sklearn-color-background);\n",
              "  border-radius: 1em;\n",
              "  height: 1em;\n",
              "  width: 1em;\n",
              "  text-decoration: none !important;\n",
              "  margin-left: 0.5em;\n",
              "  text-align: center;\n",
              "  /* unfitted */\n",
              "  border: var(--sklearn-color-unfitted-level-1) 1pt solid;\n",
              "  color: var(--sklearn-color-unfitted-level-1);\n",
              "}\n",
              "\n",
              ".sk-estimator-doc-link.fitted,\n",
              "a:link.sk-estimator-doc-link.fitted,\n",
              "a:visited.sk-estimator-doc-link.fitted {\n",
              "  /* fitted */\n",
              "  border: var(--sklearn-color-fitted-level-1) 1pt solid;\n",
              "  color: var(--sklearn-color-fitted-level-1);\n",
              "}\n",
              "\n",
              "/* On hover */\n",
              "div.sk-estimator:hover .sk-estimator-doc-link:hover,\n",
              ".sk-estimator-doc-link:hover,\n",
              "div.sk-label-container:hover .sk-estimator-doc-link:hover,\n",
              ".sk-estimator-doc-link:hover {\n",
              "  /* unfitted */\n",
              "  background-color: var(--sklearn-color-unfitted-level-3);\n",
              "  color: var(--sklearn-color-background);\n",
              "  text-decoration: none;\n",
              "}\n",
              "\n",
              "div.sk-estimator.fitted:hover .sk-estimator-doc-link.fitted:hover,\n",
              ".sk-estimator-doc-link.fitted:hover,\n",
              "div.sk-label-container:hover .sk-estimator-doc-link.fitted:hover,\n",
              ".sk-estimator-doc-link.fitted:hover {\n",
              "  /* fitted */\n",
              "  background-color: var(--sklearn-color-fitted-level-3);\n",
              "  color: var(--sklearn-color-background);\n",
              "  text-decoration: none;\n",
              "}\n",
              "\n",
              "/* Span, style for the box shown on hovering the info icon */\n",
              ".sk-estimator-doc-link span {\n",
              "  display: none;\n",
              "  z-index: 9999;\n",
              "  position: relative;\n",
              "  font-weight: normal;\n",
              "  right: .2ex;\n",
              "  padding: .5ex;\n",
              "  margin: .5ex;\n",
              "  width: min-content;\n",
              "  min-width: 20ex;\n",
              "  max-width: 50ex;\n",
              "  color: var(--sklearn-color-text);\n",
              "  box-shadow: 2pt 2pt 4pt #999;\n",
              "  /* unfitted */\n",
              "  background: var(--sklearn-color-unfitted-level-0);\n",
              "  border: .5pt solid var(--sklearn-color-unfitted-level-3);\n",
              "}\n",
              "\n",
              ".sk-estimator-doc-link.fitted span {\n",
              "  /* fitted */\n",
              "  background: var(--sklearn-color-fitted-level-0);\n",
              "  border: var(--sklearn-color-fitted-level-3);\n",
              "}\n",
              "\n",
              ".sk-estimator-doc-link:hover span {\n",
              "  display: block;\n",
              "}\n",
              "\n",
              "/* \"?\"-specific style due to the `<a>` HTML tag */\n",
              "\n",
              "#sk-container-id-1 a.estimator_doc_link {\n",
              "  float: right;\n",
              "  font-size: 1rem;\n",
              "  line-height: 1em;\n",
              "  font-family: monospace;\n",
              "  background-color: var(--sklearn-color-background);\n",
              "  border-radius: 1rem;\n",
              "  height: 1rem;\n",
              "  width: 1rem;\n",
              "  text-decoration: none;\n",
              "  /* unfitted */\n",
              "  color: var(--sklearn-color-unfitted-level-1);\n",
              "  border: var(--sklearn-color-unfitted-level-1) 1pt solid;\n",
              "}\n",
              "\n",
              "#sk-container-id-1 a.estimator_doc_link.fitted {\n",
              "  /* fitted */\n",
              "  border: var(--sklearn-color-fitted-level-1) 1pt solid;\n",
              "  color: var(--sklearn-color-fitted-level-1);\n",
              "}\n",
              "\n",
              "/* On hover */\n",
              "#sk-container-id-1 a.estimator_doc_link:hover {\n",
              "  /* unfitted */\n",
              "  background-color: var(--sklearn-color-unfitted-level-3);\n",
              "  color: var(--sklearn-color-background);\n",
              "  text-decoration: none;\n",
              "}\n",
              "\n",
              "#sk-container-id-1 a.estimator_doc_link.fitted:hover {\n",
              "  /* fitted */\n",
              "  background-color: var(--sklearn-color-fitted-level-3);\n",
              "}\n",
              "</style><div id=\"sk-container-id-1\" class=\"sk-top-container\"><div class=\"sk-text-repr-fallback\"><pre>VotingClassifier(estimators=[(&#x27;svm&#x27;,\n",
              "                              CalibratedClassifierCV(cv=3,\n",
              "                                                     estimator=SVC(C=10,\n",
              "                                                                   gamma=&#x27;auto&#x27;,\n",
              "                                                                   probability=True))),\n",
              "                             (&#x27;logreg&#x27;,\n",
              "                              LogisticRegression(C=0.01, max_iter=1000))],\n",
              "                 n_jobs=-1, voting=&#x27;soft&#x27;)</pre><b>In a Jupyter environment, please rerun this cell to show the HTML representation or trust the notebook. <br />On GitHub, the HTML representation is unable to render, please try loading this page with nbviewer.org.</b></div><div class=\"sk-container\" hidden><div class=\"sk-item sk-dashed-wrapped\"><div class=\"sk-label-container\"><div class=\"sk-label fitted sk-toggleable\"><input class=\"sk-toggleable__control sk-hidden--visually\" id=\"sk-estimator-id-1\" type=\"checkbox\" ><label for=\"sk-estimator-id-1\" class=\"sk-toggleable__label fitted sk-toggleable__label-arrow\"><div><div>VotingClassifier</div></div><div><a class=\"sk-estimator-doc-link fitted\" rel=\"noreferrer\" target=\"_blank\" href=\"https://scikit-learn.org/1.6/modules/generated/sklearn.ensemble.VotingClassifier.html\">?<span>Documentation for VotingClassifier</span></a><span class=\"sk-estimator-doc-link fitted\">i<span>Fitted</span></span></div></label><div class=\"sk-toggleable__content fitted\"><pre>VotingClassifier(estimators=[(&#x27;svm&#x27;,\n",
              "                              CalibratedClassifierCV(cv=3,\n",
              "                                                     estimator=SVC(C=10,\n",
              "                                                                   gamma=&#x27;auto&#x27;,\n",
              "                                                                   probability=True))),\n",
              "                             (&#x27;logreg&#x27;,\n",
              "                              LogisticRegression(C=0.01, max_iter=1000))],\n",
              "                 n_jobs=-1, voting=&#x27;soft&#x27;)</pre></div> </div></div><div class=\"sk-parallel\"><div class=\"sk-parallel-item\"><div class=\"sk-item\"><div class=\"sk-label-container\"><div class=\"sk-label fitted sk-toggleable\"><label>svm</label></div></div><div class=\"sk-serial\"><div class=\"sk-item sk-dashed-wrapped\"><div class=\"sk-parallel\"><div class=\"sk-parallel-item\"><div class=\"sk-item\"><div class=\"sk-label-container\"><div class=\"sk-label fitted sk-toggleable\"><input class=\"sk-toggleable__control sk-hidden--visually\" id=\"sk-estimator-id-2\" type=\"checkbox\" ><label for=\"sk-estimator-id-2\" class=\"sk-toggleable__label fitted sk-toggleable__label-arrow\"><div><div>estimator: SVC</div></div></label><div class=\"sk-toggleable__content fitted\"><pre>SVC(C=10, gamma=&#x27;auto&#x27;, probability=True)</pre></div> </div></div><div class=\"sk-serial\"><div class=\"sk-item\"><div class=\"sk-estimator fitted sk-toggleable\"><input class=\"sk-toggleable__control sk-hidden--visually\" id=\"sk-estimator-id-3\" type=\"checkbox\" ><label for=\"sk-estimator-id-3\" class=\"sk-toggleable__label fitted sk-toggleable__label-arrow\"><div><div>SVC</div></div><div><a class=\"sk-estimator-doc-link fitted\" rel=\"noreferrer\" target=\"_blank\" href=\"https://scikit-learn.org/1.6/modules/generated/sklearn.svm.SVC.html\">?<span>Documentation for SVC</span></a></div></label><div class=\"sk-toggleable__content fitted\"><pre>SVC(C=10, gamma=&#x27;auto&#x27;, probability=True)</pre></div> </div></div></div></div></div></div></div></div></div></div><div class=\"sk-parallel-item\"><div class=\"sk-item\"><div class=\"sk-label-container\"><div class=\"sk-label fitted sk-toggleable\"><label>logreg</label></div></div><div class=\"sk-serial\"><div class=\"sk-item\"><div class=\"sk-estimator fitted sk-toggleable\"><input class=\"sk-toggleable__control sk-hidden--visually\" id=\"sk-estimator-id-4\" type=\"checkbox\" ><label for=\"sk-estimator-id-4\" class=\"sk-toggleable__label fitted sk-toggleable__label-arrow\"><div><div>LogisticRegression</div></div><div><a class=\"sk-estimator-doc-link fitted\" rel=\"noreferrer\" target=\"_blank\" href=\"https://scikit-learn.org/1.6/modules/generated/sklearn.linear_model.LogisticRegression.html\">?<span>Documentation for LogisticRegression</span></a></div></label><div class=\"sk-toggleable__content fitted\"><pre>LogisticRegression(C=0.01, max_iter=1000)</pre></div> </div></div></div></div></div></div></div></div></div>"
            ]
          },
          "metadata": {},
          "execution_count": 22
        }
      ],
      "source": [
        "X_pseudo = x_test_features[pseudo_indices]\n",
        "y_pseudo = (test_probs[pseudo_indices] > threshold_high).astype(int)\n",
        "\n",
        "X_extended = np.vstack([x_train_features, X_pseudo])\n",
        "y_extended = np.concatenate([y_train, y_pseudo])\n",
        "\n",
        "voting_clf.fit(X_extended, y_extended)\n"
      ]
    },
    {
      "cell_type": "markdown",
      "id": "05370638",
      "metadata": {
        "id": "05370638"
      },
      "source": [
        "**Dự đoán xác suất cuối cùng và tạo file submission**"
      ]
    },
    {
      "cell_type": "code",
      "execution_count": 23,
      "id": "ee5f1070",
      "metadata": {
        "id": "ee5f1070",
        "outputId": "13dc5bb9-e1ee-420b-f067-1eaf13aeef71",
        "colab": {
          "base_uri": "https://localhost:8080/"
        }
      },
      "outputs": [
        {
          "output_type": "stream",
          "name": "stdout",
          "text": [
            "Pseudo-labeling + VotingClassifier training done. Submission file saved.\n"
          ]
        }
      ],
      "source": [
        "final_test_probs = voting_clf.predict_proba(x_test_features)[:, 1]\n",
        "\n",
        "submission_df = pd.DataFrame({\n",
        "    'vid_id': test_ids,\n",
        "    'is_turkey': final_test_probs\n",
        "})\n",
        "submission_df.to_csv('submission.csv', index=False)\n",
        "\n",
        "print(\"Pseudo-labeling + VotingClassifier training done. Submission file saved.\")"
      ]
    },
    {
      "cell_type": "markdown",
      "id": "4ea4d12c",
      "metadata": {
        "id": "4ea4d12c"
      },
      "source": [
        "---\n",
        "### Đánh giá mô hình Pseudo-labeling + VotingClassifier"
      ]
    },
    {
      "cell_type": "markdown",
      "id": "e2ccca42",
      "metadata": {
        "id": "e2ccca42"
      },
      "source": [
        "1. Kết quả Cross-Validation\n",
        "- Mean AUC: 0.9886 ± 0.0085 là một kết quả rất tốt, cho thấy mô hình voting kết hợp SVM và Logistic Regression hoạt động mạnh mẽ, ổn định trên dữ liệu huấn luyện.\n",
        "\n",
        "- Biến thiên nhỏ (±0.0085) chứng tỏ mô hình có độ ổn định tốt qua các fold, không bị ảnh hưởng nhiều bởi phân phối dữ liệu huấn luyện trong từng fold.\n",
        "\n",
        "- Các fold đều có AUC cao > 0.96, đặc biệt có fold đạt 1.0 và nhiều fold trên 0.99, cho thấy hiệu quả mạnh mẽ của tổ hợp mô hình và khả năng phân biệt tốt giữa các lớp.\n",
        "\n",
        "2. Số lượng mẫu pseudo-label: 969\n",
        "- Với ngưỡng tự tin cao (0.9) và thấp (0.1), việc thu được 969 mẫu là một con số hợp lý:\n",
        "\n",
        "- Nó cho thấy mô hình có khả năng đưa ra quyết định chắc chắn ở một lượng mẫu vừa phải.\n",
        "\n",
        "- Giúp tăng cường tập huấn luyện mà không gây nhiễu quá nhiều do những dự đoán kém tin cậy.\n",
        "\n",
        "- Đây là bước hợp lý để khai thác thông tin tiềm năng từ dữ liệu chưa gán nhãn, giúp mô hình học được thêm các mẫu đặc trưng.\n",
        "3. Pseudo-Labeling & Huấn luyện lại\n",
        "- Việc huấn luyện lại VotingClassifier với dữ liệu mở rộng là một chiến lược semi-supervised learning hiệu quả."
      ]
    },
    {
      "cell_type": "markdown",
      "source": [
        "## Tài liệu tham khảo\n",
        "\n",
        "- [Vector Embeddings Explained](https://www.couchbase.com/blog/what-are-vector-embeddings/)\n",
        "- [Voting Classifier](https://scikit-learn.org/stable/modules/ensemble.html#voting-classifier)\n",
        "- [Pseudo Labeling](https://viblo.asia/p/doi-dong-ve-pseudo-labeling-trong-machine-learning-1VgZvQmrKAw)"
      ],
      "metadata": {
        "id": "FS-dW81dzkYu"
      },
      "id": "FS-dW81dzkYu"
    }
  ],
  "metadata": {
    "kernelspec": {
      "display_name": "Python 3 (ipykernel)",
      "language": "python",
      "name": "python3"
    },
    "language_info": {
      "codemirror_mode": {
        "name": "ipython",
        "version": 3
      },
      "file_extension": ".py",
      "mimetype": "text/x-python",
      "name": "python",
      "nbconvert_exporter": "python",
      "pygments_lexer": "ipython3",
      "version": "3.10.15"
    },
    "colab": {
      "provenance": []
    }
  },
  "nbformat": 4,
  "nbformat_minor": 5
}